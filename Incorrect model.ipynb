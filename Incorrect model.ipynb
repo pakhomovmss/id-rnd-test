{
 "cells": [
  {
   "cell_type": "code",
   "execution_count": 62,
   "metadata": {},
   "outputs": [],
   "source": [
    "import numpy as np\n",
    "from tensorflow.keras.optimizers import SGD\n",
    "from tensorflow.keras.metrics import RootMeanSquaredError\n",
    "from tensorflow.keras.models import Sequential\n",
    "from tensorflow.keras.layers import Conv2D, MaxPooling2D, Flatten, Dense, Dropout, Activation, BatchNormalization\n",
    "import pickle"
   ]
  },
  {
   "cell_type": "code",
   "execution_count": 73,
   "metadata": {},
   "outputs": [],
   "source": [
    "X = pickle.load(open('E:\\\\Temp\\\\rnd\\\\X.pickle', 'rb'))\n",
    "y = pickle.load(open('E:\\\\Temp\\\\rnd\\\\y.pickle', 'rb'))\n",
    "\n",
    "X = np.array(X)\n",
    "y = np.array(y)\n"
   ]
  },
  {
   "cell_type": "code",
   "execution_count": 74,
   "metadata": {},
   "outputs": [
    {
     "data": {
      "text/plain": [
       "array([[[0.8       , 0.8352941 , 0.8352941 ],\n",
       "        [0.80784315, 0.84313726, 0.84313726],\n",
       "        [0.8117647 , 0.8509804 , 0.84313726],\n",
       "        ...,\n",
       "        [0.81960785, 0.84705883, 0.84313726],\n",
       "        [0.81960785, 0.84705883, 0.84313726],\n",
       "        [0.81960785, 0.84705883, 0.84313726]],\n",
       "\n",
       "       [[0.7882353 , 0.8235294 , 0.83137256],\n",
       "        [0.8039216 , 0.8392157 , 0.84313726],\n",
       "        [0.8117647 , 0.8509804 , 0.84313726],\n",
       "        ...,\n",
       "        [0.81960785, 0.84705883, 0.84313726],\n",
       "        [0.81960785, 0.84705883, 0.84313726],\n",
       "        [0.81960785, 0.84705883, 0.84313726]],\n",
       "\n",
       "       [[0.78431374, 0.8156863 , 0.81960785],\n",
       "        [0.8       , 0.8352941 , 0.8352941 ],\n",
       "        [0.80784315, 0.84705883, 0.8392157 ],\n",
       "        ...,\n",
       "        [0.81960785, 0.84705883, 0.84313726],\n",
       "        [0.81960785, 0.84705883, 0.84313726],\n",
       "        [0.81960785, 0.84705883, 0.84313726]],\n",
       "\n",
       "       ...,\n",
       "\n",
       "       [[0.7019608 , 0.61960787, 0.5254902 ],\n",
       "        [0.8392157 , 0.75686276, 0.6627451 ],\n",
       "        [0.8235294 , 0.7411765 , 0.64705884],\n",
       "        ...,\n",
       "        [0.83137256, 0.9019608 , 0.93333334],\n",
       "        [0.83137256, 0.9019608 , 0.93333334],\n",
       "        [0.827451  , 0.9019608 , 0.9372549 ]],\n",
       "\n",
       "       [[0.69411767, 0.6117647 , 0.5176471 ],\n",
       "        [0.8862745 , 0.8039216 , 0.70980394],\n",
       "        [0.8039216 , 0.72156864, 0.627451  ],\n",
       "        ...,\n",
       "        [0.84705883, 0.9098039 , 0.93333334],\n",
       "        [0.84705883, 0.9098039 , 0.93333334],\n",
       "        [0.84705883, 0.9098039 , 0.93333334]],\n",
       "\n",
       "       [[0.7372549 , 0.654902  , 0.56078434],\n",
       "        [0.9098039 , 0.827451  , 0.73333335],\n",
       "        [0.79607844, 0.7137255 , 0.61960787],\n",
       "        ...,\n",
       "        [0.85882354, 0.9137255 , 0.9372549 ],\n",
       "        [0.85882354, 0.9137255 , 0.9372549 ],\n",
       "        [0.85882354, 0.9137255 , 0.9372549 ]]], dtype=float32)"
      ]
     },
     "execution_count": 74,
     "metadata": {},
     "output_type": "execute_result"
    }
   ],
   "source": [
    "X[1]"
   ]
  },
  {
   "cell_type": "code",
   "execution_count": 81,
   "metadata": {},
   "outputs": [
    {
     "data": {
      "text/plain": [
       "\"model = Sequential()\\n\\nmodel.add(Conv2D(32, (2,2), input_shape=(128, 128, 3)))\\nmodel.add(Activation('relu'))\\nmodel.add(MaxPooling2D(pool_size=(2,2)))\\nmodel.add(Dropout(0.3))\\nmodel.add(BatchNormalization())\\n\\nmodel.add(Conv2D(64, (3, 3)))\\nmodel.add(Activation('relu'))\\nmodel.add(MaxPooling2D(pool_size=(2,2)))\\nmodel.add(Dropout(0.3))\\nmodel.add(BatchNormalization())\\n\\nmodel.add(Flatten())\\nmodel.add(Dense(1024))\\nmodel.add(Dropout(0.5))\\n\\nmodel.add(Dense(128))\\nmodel.add(BatchNormalization())\\n\\nmodel.add(Dense(32, activation='relu'))\\nmodel.add(Dropout(0.3))\\nmodel.add(BatchNormalization())\\n\\nmodel.add(Dense(1))\\nmodel.add(Activation('sigmoid'))\\n\\nmodel.summary()\""
      ]
     },
     "execution_count": 81,
     "metadata": {},
     "output_type": "execute_result"
    }
   ],
   "source": [
    "\"\"\"model = Sequential()\n",
    "\n",
    "model.add(Conv2D(32, (2,2), input_shape=(128, 128, 3)))\n",
    "model.add(Activation('relu'))\n",
    "model.add(MaxPooling2D(pool_size=(2,2)))\n",
    "model.add(Dropout(0.3))\n",
    "model.add(BatchNormalization())\n",
    "\n",
    "model.add(Conv2D(64, (3, 3)))\n",
    "model.add(Activation('relu'))\n",
    "model.add(MaxPooling2D(pool_size=(2,2)))\n",
    "model.add(Dropout(0.3))\n",
    "model.add(BatchNormalization())\n",
    "\n",
    "model.add(Flatten())\n",
    "model.add(Dense(1024))\n",
    "model.add(Dropout(0.5))\n",
    "\n",
    "model.add(Dense(128))\n",
    "model.add(BatchNormalization())\n",
    "\n",
    "model.add(Dense(32, activation='relu'))\n",
    "model.add(Dropout(0.3))\n",
    "model.add(BatchNormalization())\n",
    "\n",
    "model.add(Dense(1))\n",
    "model.add(Activation('sigmoid'))\n",
    "\n",
    "model.summary()\"\"\""
   ]
  },
  {
   "cell_type": "code",
   "execution_count": 82,
   "metadata": {},
   "outputs": [
    {
     "name": "stdout",
     "output_type": "stream",
     "text": [
      "Model: \"sequential_33\"\n",
      "_________________________________________________________________\n",
      "Layer (type)                 Output Shape              Param #   \n",
      "=================================================================\n",
      "conv2d_72 (Conv2D)           (None, 128, 128, 32)      416       \n",
      "_________________________________________________________________\n",
      "batch_normalization_69 (Batc (None, 128, 128, 32)      128       \n",
      "_________________________________________________________________\n",
      "conv2d_73 (Conv2D)           (None, 128, 128, 32)      4128      \n",
      "_________________________________________________________________\n",
      "batch_normalization_70 (Batc (None, 128, 128, 32)      128       \n",
      "_________________________________________________________________\n",
      "max_pooling2d_72 (MaxPooling (None, 64, 64, 32)        0         \n",
      "_________________________________________________________________\n",
      "conv2d_74 (Conv2D)           (None, 64, 64, 64)        18496     \n",
      "_________________________________________________________________\n",
      "batch_normalization_71 (Batc (None, 64, 64, 64)        256       \n",
      "_________________________________________________________________\n",
      "conv2d_75 (Conv2D)           (None, 64, 64, 64)        36928     \n",
      "_________________________________________________________________\n",
      "batch_normalization_72 (Batc (None, 64, 64, 64)        256       \n",
      "_________________________________________________________________\n",
      "max_pooling2d_73 (MaxPooling (None, 32, 32, 64)        0         \n",
      "_________________________________________________________________\n",
      "conv2d_76 (Conv2D)           (None, 32, 32, 128)       73856     \n",
      "_________________________________________________________________\n",
      "batch_normalization_73 (Batc (None, 32, 32, 128)       512       \n",
      "_________________________________________________________________\n",
      "conv2d_77 (Conv2D)           (None, 32, 32, 128)       147584    \n",
      "_________________________________________________________________\n",
      "batch_normalization_74 (Batc (None, 32, 32, 128)       512       \n",
      "_________________________________________________________________\n",
      "max_pooling2d_74 (MaxPooling (None, 16, 16, 128)       0         \n",
      "_________________________________________________________________\n",
      "flatten_33 (Flatten)         (None, 32768)             0         \n",
      "_________________________________________________________________\n",
      "dropout_109 (Dropout)        (None, 32768)             0         \n",
      "_________________________________________________________________\n",
      "dense_78 (Dense)             (None, 1024)              33555456  \n",
      "_________________________________________________________________\n",
      "dropout_110 (Dropout)        (None, 1024)              0         \n",
      "_________________________________________________________________\n",
      "dense_79 (Dense)             (None, 128)               131200    \n",
      "_________________________________________________________________\n",
      "batch_normalization_75 (Batc (None, 128)               512       \n",
      "_________________________________________________________________\n",
      "dense_80 (Dense)             (None, 32)                4128      \n",
      "_________________________________________________________________\n",
      "dropout_111 (Dropout)        (None, 32)                0         \n",
      "_________________________________________________________________\n",
      "batch_normalization_76 (Batc (None, 32)                128       \n",
      "_________________________________________________________________\n",
      "dense_81 (Dense)             (None, 1)                 33        \n",
      "_________________________________________________________________\n",
      "activation_130 (Activation)  (None, 1)                 0         \n",
      "=================================================================\n",
      "Total params: 33,974,657\n",
      "Trainable params: 33,973,441\n",
      "Non-trainable params: 1,216\n",
      "_________________________________________________________________\n"
     ]
    }
   ],
   "source": [
    "model = Sequential()\n",
    "\n",
    "model.add(Conv2D(32, (2,2), input_shape=(128, 128, 3), activation='relu', padding='same'))\n",
    "model.add(BatchNormalization())\n",
    "\n",
    "model.add(Conv2D(32, (2,2), activation='relu', padding='same'))\n",
    "model.add(BatchNormalization())\n",
    "\n",
    "model.add(MaxPooling2D(pool_size=(2,2)))\n",
    "\n",
    "model.add(Conv2D(64, (3,3), activation='relu', padding='same'))\n",
    "model.add(BatchNormalization())\n",
    "\n",
    "model.add(Conv2D(64, (3,3), activation='relu', padding='same'))\n",
    "model.add(BatchNormalization())\n",
    "\n",
    "model.add(MaxPooling2D(pool_size=(2,2)))\n",
    "\n",
    "model.add(Conv2D(128, (3,3), activation='relu', padding='same'))\n",
    "model.add(BatchNormalization())\n",
    "\n",
    "model.add(Conv2D(128, (3,3), activation='relu', padding='same'))\n",
    "model.add(BatchNormalization())\n",
    "\n",
    "model.add(MaxPooling2D(pool_size=(2,2)))\n",
    "\n",
    "model.add(Flatten())\n",
    "model.add(Dropout(0.2))\n",
    "\n",
    "model.add(Dense(1024))\n",
    "model.add(Dropout(0.2))\n",
    "\n",
    "model.add(Dense(128))\n",
    "model.add(BatchNormalization())\n",
    "\n",
    "model.add(Dense(32, activation='relu'))\n",
    "model.add(Dropout(0.3))\n",
    "model.add(BatchNormalization())\n",
    "\n",
    "model.add(Dense(1))\n",
    "model.add(Activation('sigmoid'))\n",
    "\n",
    "model.summary()"
   ]
  },
  {
   "cell_type": "code",
   "execution_count": 84,
   "metadata": {},
   "outputs": [
    {
     "name": "stdout",
     "output_type": "stream",
     "text": [
      "Train on 2201 samples, validate on 245 samples\n",
      "Epoch 1/5\n",
      "2201/2201 [==============================] - 212s 96ms/sample - loss: 0.2960 - accuracy: 0.5584 - val_loss: 0.2828 - val_accuracy: 0.4531\n",
      "Epoch 2/5\n",
      "2201/2201 [==============================] - 209s 95ms/sample - loss: 0.2933 - accuracy: 0.5370 - val_loss: 0.2695 - val_accuracy: 0.5306\n",
      "Epoch 3/5\n",
      "2201/2201 [==============================] - 208s 95ms/sample - loss: 0.2903 - accuracy: 0.5525 - val_loss: 0.2651 - val_accuracy: 0.5347\n",
      "Epoch 4/5\n",
      "2201/2201 [==============================] - 222s 101ms/sample - loss: 0.2939 - accuracy: 0.5466 - val_loss: 0.2601 - val_accuracy: 0.5755\n",
      "Epoch 5/5\n",
      "2201/2201 [==============================] - 230s 105ms/sample - loss: 0.2814 - accuracy: 0.5634 - val_loss: 0.2585 - val_accuracy: 0.5837\n"
     ]
    }
   ],
   "source": [
    "model.compile(optimizer=SGD(lr=0.000001, momentum=0.9),\n",
    "              loss='mse',\n",
    "              metrics=['accuracy'])\n",
    "\n",
    "history = model.fit(X, y, batch_size=16, validation_split=0.1, epochs=5)"
   ]
  },
  {
   "cell_type": "code",
   "execution_count": 5,
   "metadata": {},
   "outputs": [],
   "source": [
    "import matplotlib.pyplot as plt"
   ]
  },
  {
   "cell_type": "code",
   "execution_count": 6,
   "metadata": {},
   "outputs": [],
   "source": [
    "def get_image(path):\n",
    "    img = plt.imread(path)\n",
    "    return img"
   ]
  },
  {
   "cell_type": "code",
   "execution_count": 85,
   "metadata": {},
   "outputs": [],
   "source": [
    "lop = np.array([get_image('E:\\\\Temp\\\\rnd\\\\resized\\\\train\\\\real\\\\YOUTUBE_id88_s0_45__res.png'), get_image('E:\\\\Temp\\\\rnd\\\\resized\\\\train\\\\spoof\\\\YOUTUBE_VX2363SMHL_LGL90_id33_s1_60__res.png')])"
   ]
  },
  {
   "cell_type": "code",
   "execution_count": 86,
   "metadata": {},
   "outputs": [
    {
     "data": {
      "text/plain": [
       "array([[0.38223314],\n",
       "       [0.89072025]], dtype=float32)"
      ]
     },
     "execution_count": 86,
     "metadata": {},
     "output_type": "execute_result"
    }
   ],
   "source": [
    "model.predict(lop)"
   ]
  },
  {
   "cell_type": "code",
   "execution_count": 89,
   "metadata": {},
   "outputs": [],
   "source": [
    "del X, y"
   ]
  },
  {
   "cell_type": "code",
   "execution_count": 90,
   "metadata": {},
   "outputs": [],
   "source": [
    "test1 = pickle.load(open('E:\\\\Temp\\\\rnd\\\\test1.pickle', 'rb'))\n",
    "test1 = np.array(test1)"
   ]
  },
  {
   "cell_type": "code",
   "execution_count": 91,
   "metadata": {},
   "outputs": [],
   "source": [
    "test1_prediction = model.predict(test1)"
   ]
  },
  {
   "cell_type": "code",
   "execution_count": 93,
   "metadata": {},
   "outputs": [],
   "source": [
    "out = open('E:\\\\Temp\\\\rnd\\\\test1_prediction.pickle', 'wb')\n",
    "pickle.dump(test1_prediction, out)\n",
    "out.close()"
   ]
  },
  {
   "cell_type": "code",
   "execution_count": 94,
   "metadata": {},
   "outputs": [],
   "source": [
    "del test1"
   ]
  },
  {
   "cell_type": "code",
   "execution_count": 95,
   "metadata": {},
   "outputs": [],
   "source": [
    "test2 = pickle.load(open('E:\\\\Temp\\\\rnd\\\\test2.pickle', 'rb'))\n",
    "test2 = np.array(test2)"
   ]
  },
  {
   "cell_type": "code",
   "execution_count": 96,
   "metadata": {},
   "outputs": [],
   "source": [
    "test2_prediction = model.predict(test2)"
   ]
  },
  {
   "cell_type": "code",
   "execution_count": 97,
   "metadata": {},
   "outputs": [
    {
     "data": {
      "text/plain": [
       "array([[0.31279862],\n",
       "       [0.60577476],\n",
       "       [0.2229287 ],\n",
       "       ...,\n",
       "       [0.20236084],\n",
       "       [0.29145855],\n",
       "       [0.7562311 ]], dtype=float32)"
      ]
     },
     "execution_count": 97,
     "metadata": {},
     "output_type": "execute_result"
    }
   ],
   "source": [
    "test2_prediction"
   ]
  },
  {
   "cell_type": "code",
   "execution_count": 98,
   "metadata": {},
   "outputs": [],
   "source": [
    "import seaborn as sns"
   ]
  },
  {
   "cell_type": "code",
   "execution_count": 101,
   "metadata": {},
   "outputs": [
    {
     "data": {
      "text/plain": [
       "<matplotlib.axes._subplots.AxesSubplot at 0x16500ce9408>"
      ]
     },
     "execution_count": 101,
     "metadata": {},
     "output_type": "execute_result"
    },
    {
     "data": {
      "image/png": "[encoded data removed]",
      "text/plain": [
       "<Figure size 432x288 with 1 Axes>"
      ]
     },
     "metadata": {
      "needs_background": "light"
     },
     "output_type": "display_data"
    }
   ],
   "source": [
    "sns.distplot(test2_prediction)"
   ]
  },
  {
   "cell_type": "code",
   "execution_count": 104,
   "metadata": {
    "scrolled": true
   },
   "outputs": [
    {
     "data": {
      "text/plain": [
       "array([0.31076562], dtype=float32)"
      ]
     },
     "execution_count": 104,
     "metadata": {},
     "output_type": "execute_result"
    }
   ],
   "source": [
    "test1_prediction[3]"
   ]
  },
  {
   "cell_type": "code",
   "execution_count": null,
   "metadata": {},
   "outputs": [],
   "source": []
  }
 ],
 "metadata": {
  "kernelspec": {
   "display_name": "Python 3",
   "language": "python",
   "name": "python3"
  },
  "language_info": {
   "codemirror_mode": {
    "name": "ipython",
    "version": 3
   },
   "file_extension": ".py",
   "mimetype": "text/x-python",
   "name": "python",
   "nbconvert_exporter": "python",
   "pygments_lexer": "ipython3",
   "version": "3.7.4"
  }
 },
 "nbformat": 4,
 "nbformat_minor": 2
}
